{
 "cells": [
  {
   "cell_type": "code",
   "execution_count": 3,
   "metadata": {},
   "outputs": [
    {
     "name": "stdout",
     "output_type": "stream",
     "text": [
      "digit-recognizer.zip\n",
      "Notebook.ipynb\n",
      "sample_submission.csv\n",
      "test.csv\n",
      "train.csv\n",
      "Notebook-checkpoint.ipynb\n"
     ]
    }
   ],
   "source": [
    "import os\n",
    "\n",
    "os.chdir(\"C:\\\\Users\\\\emin\\\\Documents\\\\Machine Learning Projects\\\\DigitRecognition\")\n",
    "\n",
    "for dirs, subdirs, files in os.walk(\"./\"):\n",
    "    for file in files:\n",
    "        print(file)\n"
   ]
  },
  {
   "cell_type": "code",
   "execution_count": 4,
   "metadata": {},
   "outputs": [
    {
     "name": "stdout",
     "output_type": "stream",
     "text": [
      "C:\\Users\\emin\\Documents\\Machine Learning Projects\\DigitRecognition\n"
     ]
    }
   ],
   "source": []
  },
  {
   "cell_type": "code",
   "execution_count": 18,
   "metadata": {},
   "outputs": [
    {
     "ename": "IndentationError",
     "evalue": "expected an indented block (<ipython-input-18-fcc27ec2382e>, line 27)",
     "output_type": "error",
     "traceback": [
      "\u001b[1;36m  File \u001b[1;32m\"<ipython-input-18-fcc27ec2382e>\"\u001b[1;36m, line \u001b[1;32m27\u001b[0m\n\u001b[1;33m    def train(file_path):\u001b[0m\n\u001b[1;37m    ^\u001b[0m\n\u001b[1;31mIndentationError\u001b[0m\u001b[1;31m:\u001b[0m expected an indented block\n"
     ]
    }
   ],
   "source": [
    "import pandas as pd\n",
    "import matplotlib.pyplot as plt\n",
    "\n",
    "training_data_df=pd.read_csv(\"train.csv\")\n",
    "print(\"Read \",len(training_data_df),\" lines\")\n",
    "\n",
    "print(training_data_df.iloc[1])\n",
    "image=[]\n",
    "k=1\n",
    "digit = training_data_df.iloc[1][0]\n",
    "for i in range(28):\n",
    "    image.append([])\n",
    "    for j in range(28):\n",
    "        image[i].append(training_data_df.iloc[1][k])\n",
    "        k+=1\n",
    "print(\"SHowing digit: \",digit)\n",
    "plt.imshow(image)\n",
    "\n"
   ]
  },
  {
   "cell_type": "code",
   "execution_count": 24,
   "metadata": {},
   "outputs": [
    {
     "name": "stdout",
     "output_type": "stream",
     "text": [
      "Completed.\n"
     ]
    },
    {
     "data": {
      "image/png": "[encoded data removed]",
      "text/plain": [
       "<Figure size 432x288 with 1 Axes>"
      ]
     },
     "metadata": {
      "needs_background": "light"
     },
     "output_type": "display_data"
    }
   ],
   "source": [
    "from DigitRecogniser import DigitRecogniser\n",
    "\n",
    "digit_recogniser = DigitRecogniser(\"train.csv\", 28, 28)\n",
    "\n",
    "(digit, image)=digit_recogniser.image_array[1]\n",
    "\n",
    "\n",
    "plt.imshow(image)\n",
    "\n",
    "print(\"Completed.\")"
   ]
  },
  {
   "cell_type": "code",
   "execution_count": 25,
   "metadata": {},
   "outputs": [
    {
     "name": "stdout",
     "output_type": "stream",
     "text": [
      "   0.057692307692307696  0.057692307692307696.1  0.16948381  1\n",
      "0              0.522388                0.360000    0.178168  0\n",
      "1              0.833333                0.760000    0.161236  1\n",
      "2              0.161765                0.179104    0.183550  4\n",
      "3              0.348485                0.098765    0.172509  0\n",
      "4              0.219178                0.219178    0.181918  0\n"
     ]
    }
   ],
   "source": [
    "digit_df=pd.read_csv(\"computed_image_metrics.csv\")\n",
    "\n",
    "print(digit_df.head())"
   ]
  },
  {
   "cell_type": "code",
   "execution_count": 50,
   "metadata": {},
   "outputs": [
    {
     "name": "stdout",
     "output_type": "stream",
     "text": [
      "X data:     0.057692307692307696  0.057692307692307696.1  0.16948381\n",
      "0              0.522388                0.360000    0.178168\n",
      "1              0.833333                0.760000    0.161236\n",
      "2              0.161765                0.179104    0.183550\n",
      "3              0.348485                0.098765    0.172509\n",
      "4              0.219178                0.219178    0.181918\n",
      "Y data:     1\n",
      "0  0\n",
      "1  1\n",
      "2  4\n",
      "3  0\n",
      "4  0\n",
      "X data scaled:  [[ 5.15505876  2.70605068 -0.12564482]\n",
      " [ 9.49869286  7.73924559 -2.17982905]\n",
      " [ 0.11746522  0.42984462  0.52741562]\n",
      " [ 2.72578266 -0.58106057 -0.81220729]\n",
      " [ 0.91947999  0.93409028  0.32933697]]\n"
     ]
    },
    {
     "data": {
      "text/plain": [
       "0.28150670254053667"
      ]
     },
     "execution_count": 50,
     "metadata": {},
     "output_type": "execute_result"
    }
   ],
   "source": [
    "from sklearn.linear_model import LogisticRegression\n",
    "from sklearn import preprocessing\n",
    "\n",
    "x_data=digit_df.iloc[:,[0,1,2]]\n",
    "y_data=digit_df.iloc[:,[3]]\n",
    "\n",
    "print(\"X data: \",x_data.head())\n",
    "print(\"Y data: \",y_data.head())\n",
    "\n",
    "scaler=preprocessing.StandardScaler().fit(x_data)\n",
    "x_data_scaled = scaler.transform(x_data)\n",
    "\n",
    "print(\"X data scaled: \",x_data_scaled[:5])\n",
    "\n",
    "clf = LogisticRegression(random_state=0).fit(x_data_scaled, y_data.values[:,0])\n",
    "clf.score(x_data_scaled, y_data.values[:,0])"
   ]
  },
  {
   "cell_type": "code",
   "execution_count": null,
   "metadata": {},
   "outputs": [],
   "source": [
    "clf = LogisticRegression(random_state=0).fit(X, y)"
   ]
  }
 ],
 "metadata": {
  "kernelspec": {
   "display_name": "Python 3",
   "language": "python",
   "name": "python3"
  },
  "language_info": {
   "codemirror_mode": {
    "name": "ipython",
    "version": 3
   },
   "file_extension": ".py",
   "mimetype": "text/x-python",
   "name": "python",
   "nbconvert_exporter": "python",
   "pygments_lexer": "ipython3",
   "version": "3.8.5"
  }
 },
 "nbformat": 4,
 "nbformat_minor": 4
}
